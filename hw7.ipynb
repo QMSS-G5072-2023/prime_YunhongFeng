{
 "cells": [
  {
   "cell_type": "markdown",
   "id": "8f3679ff-3365-47f6-a122-93585e272203",
   "metadata": {},
   "source": [
    "### Question 4"
   ]
  },
  {
   "cell_type": "code",
   "execution_count": 2,
   "id": "ab5f6d58-e620-44f0-ab02-0403f6d01bcb",
   "metadata": {},
   "outputs": [
    {
     "name": "stdout",
     "output_type": "stream",
     "text": [
      "Looking in indexes: https://test.pypi.org/simple/\n",
      "Collecting prime_yf2675\n",
      "  Obtaining dependency information for prime_yf2675 from https://test-files.pythonhosted.org/packages/97/0a/802169b8a8c2f3d6d3d4e392d0f34e1c2fc3ea6d5789db8e5d16bf63a36e/prime_yf2675-0.1.0-py3-none-any.whl.metadata\n",
      "  Downloading https://test-files.pythonhosted.org/packages/97/0a/802169b8a8c2f3d6d3d4e392d0f34e1c2fc3ea6d5789db8e5d16bf63a36e/prime_yf2675-0.1.0-py3-none-any.whl.metadata (1.1 kB)\n",
      "Requirement already satisfied: jupyter<2.0.0,>=1.0.0 in /Users/mcbookpro/Library/Caches/pypoetry/virtualenvs/prime-yf2675-_n4QmaZy-py3.11/lib/python3.11/site-packages (from prime_yf2675) (1.0.0)\n",
      "Requirement already satisfied: pandas<2.0.0,>=1.1.3 in /Users/mcbookpro/Library/Caches/pypoetry/virtualenvs/prime-yf2675-_n4QmaZy-py3.11/lib/python3.11/site-packages (from prime_yf2675) (1.5.3)\n",
      "Requirement already satisfied: notebook in /Users/mcbookpro/Library/Caches/pypoetry/virtualenvs/prime-yf2675-_n4QmaZy-py3.11/lib/python3.11/site-packages (from jupyter<2.0.0,>=1.0.0->prime_yf2675) (7.0.6)\n",
      "Requirement already satisfied: qtconsole in /Users/mcbookpro/Library/Caches/pypoetry/virtualenvs/prime-yf2675-_n4QmaZy-py3.11/lib/python3.11/site-packages (from jupyter<2.0.0,>=1.0.0->prime_yf2675) (5.4.4)\n",
      "Requirement already satisfied: jupyter-console in /Users/mcbookpro/Library/Caches/pypoetry/virtualenvs/prime-yf2675-_n4QmaZy-py3.11/lib/python3.11/site-packages (from jupyter<2.0.0,>=1.0.0->prime_yf2675) (6.6.3)\n",
      "Requirement already satisfied: nbconvert in /Users/mcbookpro/Library/Caches/pypoetry/virtualenvs/prime-yf2675-_n4QmaZy-py3.11/lib/python3.11/site-packages (from jupyter<2.0.0,>=1.0.0->prime_yf2675) (7.9.2)\n",
      "Requirement already satisfied: ipykernel in /Users/mcbookpro/Library/Caches/pypoetry/virtualenvs/prime-yf2675-_n4QmaZy-py3.11/lib/python3.11/site-packages (from jupyter<2.0.0,>=1.0.0->prime_yf2675) (6.26.0)\n",
      "Requirement already satisfied: ipywidgets in /Users/mcbookpro/Library/Caches/pypoetry/virtualenvs/prime-yf2675-_n4QmaZy-py3.11/lib/python3.11/site-packages (from jupyter<2.0.0,>=1.0.0->prime_yf2675) (8.1.1)\n",
      "Requirement already satisfied: python-dateutil>=2.8.1 in /Users/mcbookpro/Library/Caches/pypoetry/virtualenvs/prime-yf2675-_n4QmaZy-py3.11/lib/python3.11/site-packages (from pandas<2.0.0,>=1.1.3->prime_yf2675) (2.8.2)\n",
      "Requirement already satisfied: pytz>=2020.1 in /Users/mcbookpro/Library/Caches/pypoetry/virtualenvs/prime-yf2675-_n4QmaZy-py3.11/lib/python3.11/site-packages (from pandas<2.0.0,>=1.1.3->prime_yf2675) (2023.3.post1)\n",
      "Requirement already satisfied: numpy>=1.21.0 in /Users/mcbookpro/Library/Caches/pypoetry/virtualenvs/prime-yf2675-_n4QmaZy-py3.11/lib/python3.11/site-packages (from pandas<2.0.0,>=1.1.3->prime_yf2675) (1.26.1)\n",
      "Requirement already satisfied: six>=1.5 in /Users/mcbookpro/Library/Caches/pypoetry/virtualenvs/prime-yf2675-_n4QmaZy-py3.11/lib/python3.11/site-packages (from python-dateutil>=2.8.1->pandas<2.0.0,>=1.1.3->prime_yf2675) (1.16.0)\n",
      "Requirement already satisfied: appnope in /Users/mcbookpro/Library/Caches/pypoetry/virtualenvs/prime-yf2675-_n4QmaZy-py3.11/lib/python3.11/site-packages (from ipykernel->jupyter<2.0.0,>=1.0.0->prime_yf2675) (0.1.3)\n",
      "Requirement already satisfied: comm>=0.1.1 in /Users/mcbookpro/Library/Caches/pypoetry/virtualenvs/prime-yf2675-_n4QmaZy-py3.11/lib/python3.11/site-packages (from ipykernel->jupyter<2.0.0,>=1.0.0->prime_yf2675) (0.1.4)\n",
      "Requirement already satisfied: debugpy>=1.6.5 in /Users/mcbookpro/Library/Caches/pypoetry/virtualenvs/prime-yf2675-_n4QmaZy-py3.11/lib/python3.11/site-packages (from ipykernel->jupyter<2.0.0,>=1.0.0->prime_yf2675) (1.8.0)\n",
      "Requirement already satisfied: ipython>=7.23.1 in /Users/mcbookpro/Library/Caches/pypoetry/virtualenvs/prime-yf2675-_n4QmaZy-py3.11/lib/python3.11/site-packages (from ipykernel->jupyter<2.0.0,>=1.0.0->prime_yf2675) (8.16.1)\n",
      "Requirement already satisfied: jupyter-client>=6.1.12 in /Users/mcbookpro/Library/Caches/pypoetry/virtualenvs/prime-yf2675-_n4QmaZy-py3.11/lib/python3.11/site-packages (from ipykernel->jupyter<2.0.0,>=1.0.0->prime_yf2675) (8.5.0)\n",
      "Requirement already satisfied: jupyter-core!=5.0.*,>=4.12 in /Users/mcbookpro/Library/Caches/pypoetry/virtualenvs/prime-yf2675-_n4QmaZy-py3.11/lib/python3.11/site-packages (from ipykernel->jupyter<2.0.0,>=1.0.0->prime_yf2675) (5.4.0)\n",
      "Requirement already satisfied: matplotlib-inline>=0.1 in /Users/mcbookpro/Library/Caches/pypoetry/virtualenvs/prime-yf2675-_n4QmaZy-py3.11/lib/python3.11/site-packages (from ipykernel->jupyter<2.0.0,>=1.0.0->prime_yf2675) (0.1.6)\n",
      "Requirement already satisfied: nest-asyncio in /Users/mcbookpro/Library/Caches/pypoetry/virtualenvs/prime-yf2675-_n4QmaZy-py3.11/lib/python3.11/site-packages (from ipykernel->jupyter<2.0.0,>=1.0.0->prime_yf2675) (1.5.8)\n",
      "Requirement already satisfied: packaging in /Users/mcbookpro/Library/Caches/pypoetry/virtualenvs/prime-yf2675-_n4QmaZy-py3.11/lib/python3.11/site-packages (from ipykernel->jupyter<2.0.0,>=1.0.0->prime_yf2675) (23.2)\n",
      "Requirement already satisfied: psutil in /Users/mcbookpro/Library/Caches/pypoetry/virtualenvs/prime-yf2675-_n4QmaZy-py3.11/lib/python3.11/site-packages (from ipykernel->jupyter<2.0.0,>=1.0.0->prime_yf2675) (5.9.6)\n",
      "Requirement already satisfied: pyzmq>=20 in /Users/mcbookpro/Library/Caches/pypoetry/virtualenvs/prime-yf2675-_n4QmaZy-py3.11/lib/python3.11/site-packages (from ipykernel->jupyter<2.0.0,>=1.0.0->prime_yf2675) (25.1.1)\n",
      "Requirement already satisfied: tornado>=6.1 in /Users/mcbookpro/Library/Caches/pypoetry/virtualenvs/prime-yf2675-_n4QmaZy-py3.11/lib/python3.11/site-packages (from ipykernel->jupyter<2.0.0,>=1.0.0->prime_yf2675) (6.3.3)\n",
      "Requirement already satisfied: traitlets>=5.4.0 in /Users/mcbookpro/Library/Caches/pypoetry/virtualenvs/prime-yf2675-_n4QmaZy-py3.11/lib/python3.11/site-packages (from ipykernel->jupyter<2.0.0,>=1.0.0->prime_yf2675) (5.12.0)\n",
      "Requirement already satisfied: widgetsnbextension~=4.0.9 in /Users/mcbookpro/Library/Caches/pypoetry/virtualenvs/prime-yf2675-_n4QmaZy-py3.11/lib/python3.11/site-packages (from ipywidgets->jupyter<2.0.0,>=1.0.0->prime_yf2675) (4.0.9)\n",
      "Requirement already satisfied: jupyterlab-widgets~=3.0.9 in /Users/mcbookpro/Library/Caches/pypoetry/virtualenvs/prime-yf2675-_n4QmaZy-py3.11/lib/python3.11/site-packages (from ipywidgets->jupyter<2.0.0,>=1.0.0->prime_yf2675) (3.0.9)\n",
      "Requirement already satisfied: prompt-toolkit>=3.0.30 in /Users/mcbookpro/Library/Caches/pypoetry/virtualenvs/prime-yf2675-_n4QmaZy-py3.11/lib/python3.11/site-packages (from jupyter-console->jupyter<2.0.0,>=1.0.0->prime_yf2675) (3.0.39)\n",
      "Requirement already satisfied: pygments in /Users/mcbookpro/Library/Caches/pypoetry/virtualenvs/prime-yf2675-_n4QmaZy-py3.11/lib/python3.11/site-packages (from jupyter-console->jupyter<2.0.0,>=1.0.0->prime_yf2675) (2.16.1)\n",
      "Requirement already satisfied: beautifulsoup4 in /Users/mcbookpro/Library/Caches/pypoetry/virtualenvs/prime-yf2675-_n4QmaZy-py3.11/lib/python3.11/site-packages (from nbconvert->jupyter<2.0.0,>=1.0.0->prime_yf2675) (4.12.2)\n",
      "Requirement already satisfied: bleach!=5.0.0 in /Users/mcbookpro/Library/Caches/pypoetry/virtualenvs/prime-yf2675-_n4QmaZy-py3.11/lib/python3.11/site-packages (from nbconvert->jupyter<2.0.0,>=1.0.0->prime_yf2675) (6.1.0)\n",
      "Requirement already satisfied: defusedxml in /Users/mcbookpro/Library/Caches/pypoetry/virtualenvs/prime-yf2675-_n4QmaZy-py3.11/lib/python3.11/site-packages (from nbconvert->jupyter<2.0.0,>=1.0.0->prime_yf2675) (0.7.1)\n",
      "Requirement already satisfied: jinja2>=3.0 in /Users/mcbookpro/Library/Caches/pypoetry/virtualenvs/prime-yf2675-_n4QmaZy-py3.11/lib/python3.11/site-packages (from nbconvert->jupyter<2.0.0,>=1.0.0->prime_yf2675) (3.1.2)\n",
      "Requirement already satisfied: jupyterlab-pygments in /Users/mcbookpro/Library/Caches/pypoetry/virtualenvs/prime-yf2675-_n4QmaZy-py3.11/lib/python3.11/site-packages (from nbconvert->jupyter<2.0.0,>=1.0.0->prime_yf2675) (0.2.2)\n",
      "Requirement already satisfied: markupsafe>=2.0 in /Users/mcbookpro/Library/Caches/pypoetry/virtualenvs/prime-yf2675-_n4QmaZy-py3.11/lib/python3.11/site-packages (from nbconvert->jupyter<2.0.0,>=1.0.0->prime_yf2675) (2.1.3)\n",
      "Requirement already satisfied: mistune<4,>=2.0.3 in /Users/mcbookpro/Library/Caches/pypoetry/virtualenvs/prime-yf2675-_n4QmaZy-py3.11/lib/python3.11/site-packages (from nbconvert->jupyter<2.0.0,>=1.0.0->prime_yf2675) (3.0.2)\n",
      "Requirement already satisfied: nbclient>=0.5.0 in /Users/mcbookpro/Library/Caches/pypoetry/virtualenvs/prime-yf2675-_n4QmaZy-py3.11/lib/python3.11/site-packages (from nbconvert->jupyter<2.0.0,>=1.0.0->prime_yf2675) (0.8.0)\n",
      "Requirement already satisfied: nbformat>=5.7 in /Users/mcbookpro/Library/Caches/pypoetry/virtualenvs/prime-yf2675-_n4QmaZy-py3.11/lib/python3.11/site-packages (from nbconvert->jupyter<2.0.0,>=1.0.0->prime_yf2675) (5.9.2)\n",
      "Requirement already satisfied: pandocfilters>=1.4.1 in /Users/mcbookpro/Library/Caches/pypoetry/virtualenvs/prime-yf2675-_n4QmaZy-py3.11/lib/python3.11/site-packages (from nbconvert->jupyter<2.0.0,>=1.0.0->prime_yf2675) (1.5.0)\n",
      "Requirement already satisfied: tinycss2 in /Users/mcbookpro/Library/Caches/pypoetry/virtualenvs/prime-yf2675-_n4QmaZy-py3.11/lib/python3.11/site-packages (from nbconvert->jupyter<2.0.0,>=1.0.0->prime_yf2675) (1.2.1)\n",
      "Requirement already satisfied: jupyter-server<3,>=2.4.0 in /Users/mcbookpro/Library/Caches/pypoetry/virtualenvs/prime-yf2675-_n4QmaZy-py3.11/lib/python3.11/site-packages (from notebook->jupyter<2.0.0,>=1.0.0->prime_yf2675) (2.9.1)\n",
      "Requirement already satisfied: jupyterlab-server<3,>=2.22.1 in /Users/mcbookpro/Library/Caches/pypoetry/virtualenvs/prime-yf2675-_n4QmaZy-py3.11/lib/python3.11/site-packages (from notebook->jupyter<2.0.0,>=1.0.0->prime_yf2675) (2.25.0)\n",
      "Requirement already satisfied: jupyterlab<5,>=4.0.2 in /Users/mcbookpro/Library/Caches/pypoetry/virtualenvs/prime-yf2675-_n4QmaZy-py3.11/lib/python3.11/site-packages (from notebook->jupyter<2.0.0,>=1.0.0->prime_yf2675) (4.0.7)\n",
      "Requirement already satisfied: notebook-shim<0.3,>=0.2 in /Users/mcbookpro/Library/Caches/pypoetry/virtualenvs/prime-yf2675-_n4QmaZy-py3.11/lib/python3.11/site-packages (from notebook->jupyter<2.0.0,>=1.0.0->prime_yf2675) (0.2.3)\n",
      "Requirement already satisfied: ipython-genutils in /Users/mcbookpro/Library/Caches/pypoetry/virtualenvs/prime-yf2675-_n4QmaZy-py3.11/lib/python3.11/site-packages (from qtconsole->jupyter<2.0.0,>=1.0.0->prime_yf2675) (0.2.0)\n",
      "Requirement already satisfied: qtpy>=2.4.0 in /Users/mcbookpro/Library/Caches/pypoetry/virtualenvs/prime-yf2675-_n4QmaZy-py3.11/lib/python3.11/site-packages (from qtconsole->jupyter<2.0.0,>=1.0.0->prime_yf2675) (2.4.1)\n",
      "Requirement already satisfied: webencodings in /Users/mcbookpro/Library/Caches/pypoetry/virtualenvs/prime-yf2675-_n4QmaZy-py3.11/lib/python3.11/site-packages (from bleach!=5.0.0->nbconvert->jupyter<2.0.0,>=1.0.0->prime_yf2675) (0.5.1)\n",
      "Requirement already satisfied: backcall in /Users/mcbookpro/Library/Caches/pypoetry/virtualenvs/prime-yf2675-_n4QmaZy-py3.11/lib/python3.11/site-packages (from ipython>=7.23.1->ipykernel->jupyter<2.0.0,>=1.0.0->prime_yf2675) (0.2.0)\n",
      "Requirement already satisfied: decorator in /Users/mcbookpro/Library/Caches/pypoetry/virtualenvs/prime-yf2675-_n4QmaZy-py3.11/lib/python3.11/site-packages (from ipython>=7.23.1->ipykernel->jupyter<2.0.0,>=1.0.0->prime_yf2675) (5.1.1)\n",
      "Requirement already satisfied: jedi>=0.16 in /Users/mcbookpro/Library/Caches/pypoetry/virtualenvs/prime-yf2675-_n4QmaZy-py3.11/lib/python3.11/site-packages (from ipython>=7.23.1->ipykernel->jupyter<2.0.0,>=1.0.0->prime_yf2675) (0.19.1)\n",
      "Requirement already satisfied: pickleshare in /Users/mcbookpro/Library/Caches/pypoetry/virtualenvs/prime-yf2675-_n4QmaZy-py3.11/lib/python3.11/site-packages (from ipython>=7.23.1->ipykernel->jupyter<2.0.0,>=1.0.0->prime_yf2675) (0.7.5)\n",
      "Requirement already satisfied: stack-data in /Users/mcbookpro/Library/Caches/pypoetry/virtualenvs/prime-yf2675-_n4QmaZy-py3.11/lib/python3.11/site-packages (from ipython>=7.23.1->ipykernel->jupyter<2.0.0,>=1.0.0->prime_yf2675) (0.6.3)\n",
      "Requirement already satisfied: pexpect>4.3 in /Users/mcbookpro/Library/Caches/pypoetry/virtualenvs/prime-yf2675-_n4QmaZy-py3.11/lib/python3.11/site-packages (from ipython>=7.23.1->ipykernel->jupyter<2.0.0,>=1.0.0->prime_yf2675) (4.8.0)\n",
      "Requirement already satisfied: platformdirs>=2.5 in /Users/mcbookpro/Library/Caches/pypoetry/virtualenvs/prime-yf2675-_n4QmaZy-py3.11/lib/python3.11/site-packages (from jupyter-core!=5.0.*,>=4.12->ipykernel->jupyter<2.0.0,>=1.0.0->prime_yf2675) (3.11.0)\n",
      "Requirement already satisfied: anyio>=3.1.0 in /Users/mcbookpro/Library/Caches/pypoetry/virtualenvs/prime-yf2675-_n4QmaZy-py3.11/lib/python3.11/site-packages (from jupyter-server<3,>=2.4.0->notebook->jupyter<2.0.0,>=1.0.0->prime_yf2675) (4.0.0)\n",
      "Requirement already satisfied: argon2-cffi in /Users/mcbookpro/Library/Caches/pypoetry/virtualenvs/prime-yf2675-_n4QmaZy-py3.11/lib/python3.11/site-packages (from jupyter-server<3,>=2.4.0->notebook->jupyter<2.0.0,>=1.0.0->prime_yf2675) (23.1.0)\n",
      "Requirement already satisfied: jupyter-events>=0.6.0 in /Users/mcbookpro/Library/Caches/pypoetry/virtualenvs/prime-yf2675-_n4QmaZy-py3.11/lib/python3.11/site-packages (from jupyter-server<3,>=2.4.0->notebook->jupyter<2.0.0,>=1.0.0->prime_yf2675) (0.8.0)\n",
      "Requirement already satisfied: jupyter-server-terminals in /Users/mcbookpro/Library/Caches/pypoetry/virtualenvs/prime-yf2675-_n4QmaZy-py3.11/lib/python3.11/site-packages (from jupyter-server<3,>=2.4.0->notebook->jupyter<2.0.0,>=1.0.0->prime_yf2675) (0.4.4)\n",
      "Requirement already satisfied: overrides in /Users/mcbookpro/Library/Caches/pypoetry/virtualenvs/prime-yf2675-_n4QmaZy-py3.11/lib/python3.11/site-packages (from jupyter-server<3,>=2.4.0->notebook->jupyter<2.0.0,>=1.0.0->prime_yf2675) (7.4.0)\n",
      "Requirement already satisfied: prometheus-client in /Users/mcbookpro/Library/Caches/pypoetry/virtualenvs/prime-yf2675-_n4QmaZy-py3.11/lib/python3.11/site-packages (from jupyter-server<3,>=2.4.0->notebook->jupyter<2.0.0,>=1.0.0->prime_yf2675) (0.17.1)\n",
      "Requirement already satisfied: send2trash>=1.8.2 in /Users/mcbookpro/Library/Caches/pypoetry/virtualenvs/prime-yf2675-_n4QmaZy-py3.11/lib/python3.11/site-packages (from jupyter-server<3,>=2.4.0->notebook->jupyter<2.0.0,>=1.0.0->prime_yf2675) (1.8.2)\n",
      "Requirement already satisfied: terminado>=0.8.3 in /Users/mcbookpro/Library/Caches/pypoetry/virtualenvs/prime-yf2675-_n4QmaZy-py3.11/lib/python3.11/site-packages (from jupyter-server<3,>=2.4.0->notebook->jupyter<2.0.0,>=1.0.0->prime_yf2675) (0.17.1)\n",
      "Requirement already satisfied: websocket-client in /Users/mcbookpro/Library/Caches/pypoetry/virtualenvs/prime-yf2675-_n4QmaZy-py3.11/lib/python3.11/site-packages (from jupyter-server<3,>=2.4.0->notebook->jupyter<2.0.0,>=1.0.0->prime_yf2675) (1.6.4)\n",
      "Requirement already satisfied: async-lru>=1.0.0 in /Users/mcbookpro/Library/Caches/pypoetry/virtualenvs/prime-yf2675-_n4QmaZy-py3.11/lib/python3.11/site-packages (from jupyterlab<5,>=4.0.2->notebook->jupyter<2.0.0,>=1.0.0->prime_yf2675) (2.0.4)\n",
      "Requirement already satisfied: jupyter-lsp>=2.0.0 in /Users/mcbookpro/Library/Caches/pypoetry/virtualenvs/prime-yf2675-_n4QmaZy-py3.11/lib/python3.11/site-packages (from jupyterlab<5,>=4.0.2->notebook->jupyter<2.0.0,>=1.0.0->prime_yf2675) (2.2.0)\n",
      "Requirement already satisfied: babel>=2.10 in /Users/mcbookpro/Library/Caches/pypoetry/virtualenvs/prime-yf2675-_n4QmaZy-py3.11/lib/python3.11/site-packages (from jupyterlab-server<3,>=2.22.1->notebook->jupyter<2.0.0,>=1.0.0->prime_yf2675) (2.13.1)\n",
      "Requirement already satisfied: json5>=0.9.0 in /Users/mcbookpro/Library/Caches/pypoetry/virtualenvs/prime-yf2675-_n4QmaZy-py3.11/lib/python3.11/site-packages (from jupyterlab-server<3,>=2.22.1->notebook->jupyter<2.0.0,>=1.0.0->prime_yf2675) (0.9.14)\n",
      "Requirement already satisfied: jsonschema>=4.18.0 in /Users/mcbookpro/Library/Caches/pypoetry/virtualenvs/prime-yf2675-_n4QmaZy-py3.11/lib/python3.11/site-packages (from jupyterlab-server<3,>=2.22.1->notebook->jupyter<2.0.0,>=1.0.0->prime_yf2675) (4.19.1)\n",
      "Requirement already satisfied: requests>=2.31 in /Users/mcbookpro/Library/Caches/pypoetry/virtualenvs/prime-yf2675-_n4QmaZy-py3.11/lib/python3.11/site-packages (from jupyterlab-server<3,>=2.22.1->notebook->jupyter<2.0.0,>=1.0.0->prime_yf2675) (2.31.0)\n",
      "Requirement already satisfied: fastjsonschema in /Users/mcbookpro/Library/Caches/pypoetry/virtualenvs/prime-yf2675-_n4QmaZy-py3.11/lib/python3.11/site-packages (from nbformat>=5.7->nbconvert->jupyter<2.0.0,>=1.0.0->prime_yf2675) (2.18.1)\n",
      "Requirement already satisfied: wcwidth in /Users/mcbookpro/Library/Caches/pypoetry/virtualenvs/prime-yf2675-_n4QmaZy-py3.11/lib/python3.11/site-packages (from prompt-toolkit>=3.0.30->jupyter-console->jupyter<2.0.0,>=1.0.0->prime_yf2675) (0.2.8)\n",
      "Requirement already satisfied: soupsieve>1.2 in /Users/mcbookpro/Library/Caches/pypoetry/virtualenvs/prime-yf2675-_n4QmaZy-py3.11/lib/python3.11/site-packages (from beautifulsoup4->nbconvert->jupyter<2.0.0,>=1.0.0->prime_yf2675) (2.5)\n",
      "Requirement already satisfied: idna>=2.8 in /Users/mcbookpro/Library/Caches/pypoetry/virtualenvs/prime-yf2675-_n4QmaZy-py3.11/lib/python3.11/site-packages (from anyio>=3.1.0->jupyter-server<3,>=2.4.0->notebook->jupyter<2.0.0,>=1.0.0->prime_yf2675) (3.4)\n",
      "Requirement already satisfied: sniffio>=1.1 in /Users/mcbookpro/Library/Caches/pypoetry/virtualenvs/prime-yf2675-_n4QmaZy-py3.11/lib/python3.11/site-packages (from anyio>=3.1.0->jupyter-server<3,>=2.4.0->notebook->jupyter<2.0.0,>=1.0.0->prime_yf2675) (1.3.0)\n",
      "Requirement already satisfied: parso<0.9.0,>=0.8.3 in /Users/mcbookpro/Library/Caches/pypoetry/virtualenvs/prime-yf2675-_n4QmaZy-py3.11/lib/python3.11/site-packages (from jedi>=0.16->ipython>=7.23.1->ipykernel->jupyter<2.0.0,>=1.0.0->prime_yf2675) (0.8.3)\n",
      "Requirement already satisfied: attrs>=22.2.0 in /Users/mcbookpro/Library/Caches/pypoetry/virtualenvs/prime-yf2675-_n4QmaZy-py3.11/lib/python3.11/site-packages (from jsonschema>=4.18.0->jupyterlab-server<3,>=2.22.1->notebook->jupyter<2.0.0,>=1.0.0->prime_yf2675) (23.1.0)\n",
      "Requirement already satisfied: jsonschema-specifications>=2023.03.6 in /Users/mcbookpro/Library/Caches/pypoetry/virtualenvs/prime-yf2675-_n4QmaZy-py3.11/lib/python3.11/site-packages (from jsonschema>=4.18.0->jupyterlab-server<3,>=2.22.1->notebook->jupyter<2.0.0,>=1.0.0->prime_yf2675) (2023.7.1)\n",
      "Requirement already satisfied: referencing>=0.28.4 in /Users/mcbookpro/Library/Caches/pypoetry/virtualenvs/prime-yf2675-_n4QmaZy-py3.11/lib/python3.11/site-packages (from jsonschema>=4.18.0->jupyterlab-server<3,>=2.22.1->notebook->jupyter<2.0.0,>=1.0.0->prime_yf2675) (0.30.2)\n",
      "Requirement already satisfied: rpds-py>=0.7.1 in /Users/mcbookpro/Library/Caches/pypoetry/virtualenvs/prime-yf2675-_n4QmaZy-py3.11/lib/python3.11/site-packages (from jsonschema>=4.18.0->jupyterlab-server<3,>=2.22.1->notebook->jupyter<2.0.0,>=1.0.0->prime_yf2675) (0.10.6)\n",
      "Requirement already satisfied: python-json-logger>=2.0.4 in /Users/mcbookpro/Library/Caches/pypoetry/virtualenvs/prime-yf2675-_n4QmaZy-py3.11/lib/python3.11/site-packages (from jupyter-events>=0.6.0->jupyter-server<3,>=2.4.0->notebook->jupyter<2.0.0,>=1.0.0->prime_yf2675) (2.0.7)\n",
      "Requirement already satisfied: pyyaml>=5.3 in /Users/mcbookpro/Library/Caches/pypoetry/virtualenvs/prime-yf2675-_n4QmaZy-py3.11/lib/python3.11/site-packages (from jupyter-events>=0.6.0->jupyter-server<3,>=2.4.0->notebook->jupyter<2.0.0,>=1.0.0->prime_yf2675) (6.0.1)\n",
      "Requirement already satisfied: rfc3339-validator in /Users/mcbookpro/Library/Caches/pypoetry/virtualenvs/prime-yf2675-_n4QmaZy-py3.11/lib/python3.11/site-packages (from jupyter-events>=0.6.0->jupyter-server<3,>=2.4.0->notebook->jupyter<2.0.0,>=1.0.0->prime_yf2675) (0.1.4)\n",
      "Requirement already satisfied: rfc3986-validator>=0.1.1 in /Users/mcbookpro/Library/Caches/pypoetry/virtualenvs/prime-yf2675-_n4QmaZy-py3.11/lib/python3.11/site-packages (from jupyter-events>=0.6.0->jupyter-server<3,>=2.4.0->notebook->jupyter<2.0.0,>=1.0.0->prime_yf2675) (0.1.1)\n",
      "Requirement already satisfied: ptyprocess>=0.5 in /Users/mcbookpro/Library/Caches/pypoetry/virtualenvs/prime-yf2675-_n4QmaZy-py3.11/lib/python3.11/site-packages (from pexpect>4.3->ipython>=7.23.1->ipykernel->jupyter<2.0.0,>=1.0.0->prime_yf2675) (0.7.0)\n",
      "Requirement already satisfied: charset-normalizer<4,>=2 in /Users/mcbookpro/Library/Caches/pypoetry/virtualenvs/prime-yf2675-_n4QmaZy-py3.11/lib/python3.11/site-packages (from requests>=2.31->jupyterlab-server<3,>=2.22.1->notebook->jupyter<2.0.0,>=1.0.0->prime_yf2675) (3.3.1)\n",
      "Requirement already satisfied: urllib3<3,>=1.21.1 in /Users/mcbookpro/Library/Caches/pypoetry/virtualenvs/prime-yf2675-_n4QmaZy-py3.11/lib/python3.11/site-packages (from requests>=2.31->jupyterlab-server<3,>=2.22.1->notebook->jupyter<2.0.0,>=1.0.0->prime_yf2675) (2.0.7)\n",
      "Requirement already satisfied: certifi>=2017.4.17 in /Users/mcbookpro/Library/Caches/pypoetry/virtualenvs/prime-yf2675-_n4QmaZy-py3.11/lib/python3.11/site-packages (from requests>=2.31->jupyterlab-server<3,>=2.22.1->notebook->jupyter<2.0.0,>=1.0.0->prime_yf2675) (2023.7.22)\n",
      "Requirement already satisfied: argon2-cffi-bindings in /Users/mcbookpro/Library/Caches/pypoetry/virtualenvs/prime-yf2675-_n4QmaZy-py3.11/lib/python3.11/site-packages (from argon2-cffi->jupyter-server<3,>=2.4.0->notebook->jupyter<2.0.0,>=1.0.0->prime_yf2675) (21.2.0)\n",
      "Requirement already satisfied: executing>=1.2.0 in /Users/mcbookpro/Library/Caches/pypoetry/virtualenvs/prime-yf2675-_n4QmaZy-py3.11/lib/python3.11/site-packages (from stack-data->ipython>=7.23.1->ipykernel->jupyter<2.0.0,>=1.0.0->prime_yf2675) (2.0.0)\n",
      "Requirement already satisfied: asttokens>=2.1.0 in /Users/mcbookpro/Library/Caches/pypoetry/virtualenvs/prime-yf2675-_n4QmaZy-py3.11/lib/python3.11/site-packages (from stack-data->ipython>=7.23.1->ipykernel->jupyter<2.0.0,>=1.0.0->prime_yf2675) (2.4.1)\n",
      "Requirement already satisfied: pure-eval in /Users/mcbookpro/Library/Caches/pypoetry/virtualenvs/prime-yf2675-_n4QmaZy-py3.11/lib/python3.11/site-packages (from stack-data->ipython>=7.23.1->ipykernel->jupyter<2.0.0,>=1.0.0->prime_yf2675) (0.2.2)\n",
      "Requirement already satisfied: fqdn in /Users/mcbookpro/Library/Caches/pypoetry/virtualenvs/prime-yf2675-_n4QmaZy-py3.11/lib/python3.11/site-packages (from jsonschema>=4.18.0->jupyterlab-server<3,>=2.22.1->notebook->jupyter<2.0.0,>=1.0.0->prime_yf2675) (1.5.1)\n",
      "Requirement already satisfied: isoduration in /Users/mcbookpro/Library/Caches/pypoetry/virtualenvs/prime-yf2675-_n4QmaZy-py3.11/lib/python3.11/site-packages (from jsonschema>=4.18.0->jupyterlab-server<3,>=2.22.1->notebook->jupyter<2.0.0,>=1.0.0->prime_yf2675) (20.11.0)\n",
      "Requirement already satisfied: jsonpointer>1.13 in /Users/mcbookpro/Library/Caches/pypoetry/virtualenvs/prime-yf2675-_n4QmaZy-py3.11/lib/python3.11/site-packages (from jsonschema>=4.18.0->jupyterlab-server<3,>=2.22.1->notebook->jupyter<2.0.0,>=1.0.0->prime_yf2675) (2.4)\n",
      "Requirement already satisfied: uri-template in /Users/mcbookpro/Library/Caches/pypoetry/virtualenvs/prime-yf2675-_n4QmaZy-py3.11/lib/python3.11/site-packages (from jsonschema>=4.18.0->jupyterlab-server<3,>=2.22.1->notebook->jupyter<2.0.0,>=1.0.0->prime_yf2675) (1.3.0)\n",
      "Requirement already satisfied: webcolors>=1.11 in /Users/mcbookpro/Library/Caches/pypoetry/virtualenvs/prime-yf2675-_n4QmaZy-py3.11/lib/python3.11/site-packages (from jsonschema>=4.18.0->jupyterlab-server<3,>=2.22.1->notebook->jupyter<2.0.0,>=1.0.0->prime_yf2675) (1.13)\n",
      "Requirement already satisfied: cffi>=1.0.1 in /Users/mcbookpro/Library/Caches/pypoetry/virtualenvs/prime-yf2675-_n4QmaZy-py3.11/lib/python3.11/site-packages (from argon2-cffi-bindings->argon2-cffi->jupyter-server<3,>=2.4.0->notebook->jupyter<2.0.0,>=1.0.0->prime_yf2675) (1.16.0)\n",
      "Requirement already satisfied: pycparser in /Users/mcbookpro/Library/Caches/pypoetry/virtualenvs/prime-yf2675-_n4QmaZy-py3.11/lib/python3.11/site-packages (from cffi>=1.0.1->argon2-cffi-bindings->argon2-cffi->jupyter-server<3,>=2.4.0->notebook->jupyter<2.0.0,>=1.0.0->prime_yf2675) (2.21)\n",
      "Requirement already satisfied: arrow>=0.15.0 in /Users/mcbookpro/Library/Caches/pypoetry/virtualenvs/prime-yf2675-_n4QmaZy-py3.11/lib/python3.11/site-packages (from isoduration->jsonschema>=4.18.0->jupyterlab-server<3,>=2.22.1->notebook->jupyter<2.0.0,>=1.0.0->prime_yf2675) (1.3.0)\n",
      "Requirement already satisfied: types-python-dateutil>=2.8.10 in /Users/mcbookpro/Library/Caches/pypoetry/virtualenvs/prime-yf2675-_n4QmaZy-py3.11/lib/python3.11/site-packages (from arrow>=0.15.0->isoduration->jsonschema>=4.18.0->jupyterlab-server<3,>=2.22.1->notebook->jupyter<2.0.0,>=1.0.0->prime_yf2675) (2.8.19.14)\n",
      "Downloading https://test-files.pythonhosted.org/packages/97/0a/802169b8a8c2f3d6d3d4e392d0f34e1c2fc3ea6d5789db8e5d16bf63a36e/prime_yf2675-0.1.0-py3-none-any.whl (2.9 kB)\n",
      "Installing collected packages: prime_yf2675\n",
      "Successfully installed prime_yf2675-0.1.0\n"
     ]
    }
   ],
   "source": [
    "!pip install --index-url https://test.pypi.org/simple/ prime_yf2675"
   ]
  },
  {
   "cell_type": "code",
   "execution_count": 3,
   "id": "6dcb0c5e-f9ba-4b25-8282-18f7fd3bfac0",
   "metadata": {},
   "outputs": [],
   "source": [
    "from prime_yf2675.prime_yf2675 import is_prime"
   ]
  },
  {
   "cell_type": "code",
   "execution_count": 4,
   "id": "fa6a8093-c679-4a77-a121-b5c57ad95482",
   "metadata": {},
   "outputs": [
    {
     "name": "stdout",
     "output_type": "stream",
     "text": [
      "True\n"
     ]
    }
   ],
   "source": [
    "result = is_prime(5)\n",
    "print(result)"
   ]
  },
  {
   "cell_type": "code",
   "execution_count": 6,
   "id": "34d1d48b-e61a-453f-a94b-74f50fc455f0",
   "metadata": {},
   "outputs": [
    {
     "name": "stdout",
     "output_type": "stream",
     "text": [
      "Help on package prime_yf2675:\n",
      "\n",
      "NAME\n",
      "    prime_yf2675 - # read version from installed package\n",
      "\n",
      "PACKAGE CONTENTS\n",
      "    prime_yf2675\n",
      "\n",
      "VERSION\n",
      "    0.1.0\n",
      "\n",
      "FILE\n",
      "    /Users/mcbookpro/Library/Caches/pypoetry/virtualenvs/prime-yf2675-_n4QmaZy-py3.11/lib/python3.11/site-packages/prime_yf2675/__init__.py\n",
      "\n",
      "\n"
     ]
    }
   ],
   "source": [
    "import prime_yf2675\n",
    "help(prime_yf2675)"
   ]
  },
  {
   "cell_type": "code",
   "execution_count": 7,
   "id": "5524912e-eec1-45da-b7f4-32fa49f27446",
   "metadata": {},
   "outputs": [
    {
     "name": "stdout",
     "output_type": "stream",
     "text": [
      "Help on function is_prime in module prime_yf2675.prime_yf2675:\n",
      "\n",
      "is_prime(n)\n",
      "\n"
     ]
    }
   ],
   "source": [
    "help(is_prime)"
   ]
  },
  {
   "cell_type": "code",
   "execution_count": null,
   "id": "da433986-c45b-499a-b32a-f60011e5d3f4",
   "metadata": {},
   "outputs": [],
   "source": []
  }
 ],
 "metadata": {
  "kernelspec": {
   "display_name": "Python 3 (ipykernel)",
   "language": "python",
   "name": "python3"
  },
  "language_info": {
   "codemirror_mode": {
    "name": "ipython",
    "version": 3
   },
   "file_extension": ".py",
   "mimetype": "text/x-python",
   "name": "python",
   "nbconvert_exporter": "python",
   "pygments_lexer": "ipython3",
   "version": "3.11.5"
  }
 },
 "nbformat": 4,
 "nbformat_minor": 5
}
